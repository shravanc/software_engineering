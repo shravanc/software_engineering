{
 "cells": [
  {
   "cell_type": "code",
   "execution_count": 88,
   "metadata": {},
   "outputs": [],
   "source": [
    "%matplotlib inline\n",
    "import pymc3 as pm\n",
    "import numpy as np\n",
    "import matplotlib.pyplot as plt\n",
    "import seaborn as sns\n",
    "import random\n",
    "\n",
    "\n",
    "\n",
    "\n",
    "#generic least squares algorithm\n",
    "def leastsquares(H,y):\n",
    "    yc = y.reshape(-1,1) #column vector\n",
    "    M = np.linalg.inv(np.matmul(H.T,H))\n",
    "    theta = np.matmul(M, np.matmul(H.T,y) )\n",
    "    return theta\n",
    "\n",
    "\n",
    "#generic polynomial regression\n",
    "def build_H(x,degree=1):\n",
    "    H=np.zeros((len(x),degree+1))\n",
    "    for d in range(degree+1):\n",
    "        H[:,d]=x**d\n",
    "    return H"
   ]
  },
  {
   "cell_type": "code",
   "execution_count": null,
   "metadata": {},
   "outputs": [],
   "source": []
  },
  {
   "cell_type": "markdown",
   "metadata": {},
   "source": [
    "## Matrix form\n",
    " A fast way to do that is to put the problem in matrix form. We have already seen the linear case, let's see the quadratic case\n",
    "\n",
    "$$\n",
    "X=\\begin{bmatrix}\n",
    "1 & x_1 & x_1^2\\\\\n",
    "1 & x_2 & x_2^2\\\\\n",
    "\\vdots & \\vdots\\\\ \n",
    "1 & x_N & x_N^2\\\\\n",
    "\\end{bmatrix},~~~ y =\\begin{bmatrix}\n",
    "y_1\\\\\n",
    "y_2\\\\\n",
    " \\vdots\\\\ \n",
    "y_N\\\\\n",
    "\\end{bmatrix},~~~\n",
    "\\theta =\\begin{bmatrix}\n",
    "\\theta_0\\\\\n",
    "\\theta_1\\\\\n",
    "\\theta_2\n",
    "\\end{bmatrix}\n",
    " $$\n",
    " \n",
    " and observe that\n",
    " \n",
    " $$\n",
    " \\sum_{i=1}^N (y_i-\\theta_0-\\theta_1 x_i-\\theta_2 x_i^2)^2 =  (y-X\\theta)^T(y-X\\theta)\n",
    " $$"
   ]
  },
  {
   "cell_type": "code",
   "execution_count": 4,
   "metadata": {},
   "outputs": [
    {
     "data": {
      "text/plain": [
       "array([[ 1.,  1.,  1.,  1.],\n",
       "       [ 1.,  2.,  4.,  8.],\n",
       "       [ 1.,  3.,  9., 27.],\n",
       "       [ 1.,  4., 16., 64.]])"
      ]
     },
     "execution_count": 4,
     "metadata": {},
     "output_type": "execute_result"
    }
   ],
   "source": [
    "x=np.array([1,2,3,4])\n",
    "H = build_H(x,degree=3)\n",
    "H"
   ]
  },
  {
   "cell_type": "markdown",
   "metadata": {},
   "source": [
    "## Least squares solution\n",
    "\n",
    "We need to solve \n",
    "$$\n",
    "\\hat{\\theta}:=\\arg\\min_{\\theta}  (y-X\\theta)^T(y-X\\theta)\n",
    "$$\n",
    "\n",
    "the solution is\n",
    "\n",
    "$$\n",
    "\\hat{\\theta}= (X^TX)^{-1}X^Ty\n",
    "$$\n",
    "\n",
    "This holds no matter the degree of the polynomial because the matrix form is general!"
   ]
  },
  {
   "cell_type": "markdown",
   "metadata": {},
   "source": [
    "### Step 0: we generate the data"
   ]
  },
  {
   "cell_type": "code",
   "execution_count": 70,
   "metadata": {},
   "outputs": [
    {
     "data": {
      "image/png": "[encoded data removed]",
      "text/plain": [
       "<Figure size 432x288 with 1 Axes>"
      ]
     },
     "metadata": {
      "needs_background": "light"
     },
     "output_type": "display_data"
    }
   ],
   "source": [
    "#True Model\n",
    "theta=[0.5, -7, 6.5, 8, -8.5]\n",
    "n=10 #number of observations\n",
    "#training dataset\n",
    "x_tr =np.linspace(0,1,n)\n",
    "X_tr = build_H(x_tr,degree=4)\n",
    "y_tr = np.matmul(X_tr,theta)+np.random.randn(n)/13\n",
    "\n",
    "#testing dataset\n",
    "x_te = np.linspace(0,1,30)\n",
    "X_te = build_H(x_te,degree=4)\n",
    "y_te = np.matmul(X_te,theta)+np.random.randn(len(x_te))/13\n",
    "#plt.plot(x_te,np.matmul(X_te,theta))\n",
    "plt.scatter(x_tr,y_tr,color='b',label='training',Zorder=1000);\n",
    "plt.scatter(x_te,y_te,color='r',label='testing',alpha=0.2);\n",
    "plt.legend()\n",
    "plt.xlabel(\"x\",fontsize=16)\n",
    "plt.ylabel(\"y\",fontsize=16);"
   ]
  },
  {
   "cell_type": "markdown",
   "metadata": {},
   "source": [
    "### Step 1: we build the matrix X (sometimes it is called H)"
   ]
  },
  {
   "cell_type": "code",
   "execution_count": 71,
   "metadata": {},
   "outputs": [
    {
     "data": {
      "text/plain": [
       "array([[1.        , 0.        , 0.        ],\n",
       "       [1.        , 0.11111111, 0.01234568],\n",
       "       [1.        , 0.22222222, 0.04938272],\n",
       "       [1.        , 0.33333333, 0.11111111],\n",
       "       [1.        , 0.44444444, 0.19753086],\n",
       "       [1.        , 0.55555556, 0.30864198],\n",
       "       [1.        , 0.66666667, 0.44444444],\n",
       "       [1.        , 0.77777778, 0.60493827],\n",
       "       [1.        , 0.88888889, 0.79012346],\n",
       "       [1.        , 1.        , 1.        ]])"
      ]
     },
     "execution_count": 71,
     "metadata": {},
     "output_type": "execute_result"
    }
   ],
   "source": [
    "#we use training data\n",
    "deg= 2 #select the degree of the polynomial\n",
    "X_tr = build_H(x_tr,degree=deg)\n",
    "X_tr"
   ]
  },
  {
   "cell_type": "markdown",
   "metadata": {},
   "source": [
    "### Step 2: polynomial regression"
   ]
  },
  {
   "cell_type": "code",
   "execution_count": 72,
   "metadata": {},
   "outputs": [],
   "source": [
    "from sklearn.linear_model import LinearRegression\n",
    "linR = LinearRegression(fit_intercept=False)"
   ]
  },
  {
   "cell_type": "code",
   "execution_count": 73,
   "metadata": {},
   "outputs": [
    {
     "data": {
      "text/plain": [
       "array([ 0.22858586, -4.02734993,  3.6166672 ])"
      ]
     },
     "execution_count": 73,
     "metadata": {},
     "output_type": "execute_result"
    }
   ],
   "source": [
    "linR.fit(X_tr,y_tr)\n",
    "np.set_printoptions(suppress=True)\n",
    "linR.coef_"
   ]
  },
  {
   "cell_type": "markdown",
   "metadata": {},
   "source": [
    "### We can implement it from scratch "
   ]
  },
  {
   "cell_type": "code",
   "execution_count": 74,
   "metadata": {},
   "outputs": [
    {
     "name": "stdout",
     "output_type": "stream",
     "text": [
      "Our class\n",
      "Our fit\n",
      "[ 0.22858586 -4.02734993  3.6166672 ]\n"
     ]
    }
   ],
   "source": [
    "class LinearRegression:\n",
    "    def __init__(self,fit_intercept=False):\n",
    "        print(\"Our class\")\n",
    "        self.coef_=[]\n",
    "        \n",
    "    def fit(self,X,y):\n",
    "        print(\"Our fit\")\n",
    "        self.coef_=leastsquares(X,y)\n",
    "        \n",
    "    def predict(self,Xpred):\n",
    "        print(\"Our prediction\")\n",
    "        return np.matmul(Xpred,self.coef_)\n",
    "    \n",
    "linR=LinearRegression()\n",
    "linR.fit(X_tr,y_tr)\n",
    "\n",
    "#np.set_printoptions(suppress=True)\n",
    "print(linR.coef_)"
   ]
  },
  {
   "cell_type": "markdown",
   "metadata": {},
   "source": [
    "### Step 3: prediction and computation of the MSE"
   ]
  },
  {
   "cell_type": "code",
   "execution_count": 75,
   "metadata": {},
   "outputs": [
    {
     "name": "stdout",
     "output_type": "stream",
     "text": [
      "Our prediction\n",
      "MSE train set= 0.0615\n"
     ]
    },
    {
     "data": {
      "image/png": "[encoded data removed]",
      "text/plain": [
       "<Figure size 432x288 with 1 Axes>"
      ]
     },
     "metadata": {
      "needs_background": "light"
     },
     "output_type": "display_data"
    }
   ],
   "source": [
    "y_pred_tr = linR.predict(X_tr)\n",
    "\n",
    "#training dataset\n",
    "plt.scatter(x_tr,y_tr,color='b',label='training');\n",
    "plt.scatter(x_tr,y_pred_tr,color='g',label='prediction',alpha=0.6,Zorder=1000);\n",
    "plt.legend()\n",
    "plt.xlabel(\"x\",fontsize=16)\n",
    "plt.ylabel(\"y\",fontsize=16);\n",
    "print(\"MSE train set=\",np.round(np.sum((y_pred_tr-y_tr)**2)/len(y_tr),4))"
   ]
  },
  {
   "cell_type": "code",
   "execution_count": 76,
   "metadata": {},
   "outputs": [
    {
     "name": "stdout",
     "output_type": "stream",
     "text": [
      "Our prediction\n",
      "Our prediction\n",
      "MSE test set= 0.053\n"
     ]
    },
    {
     "data": {
      "image/png": "[encoded data removed]",
      "text/plain": [
       "<Figure size 432x288 with 1 Axes>"
      ]
     },
     "metadata": {
      "needs_background": "light"
     },
     "output_type": "display_data"
    }
   ],
   "source": [
    "X_te = build_H(x_te,degree=deg)\n",
    "y_pred_te = linR.predict(X_te)\n",
    "\n",
    "\n",
    "plt.scatter(x_te,y_te,color='r',label='training',Zorder=1000);\n",
    "plt.scatter(x_te,y_pred_te,color='g',label='prediction',alpha=0.5);\n",
    "\n",
    "x_plot = np.linspace(0,1,100)\n",
    "X_te_plot = build_H(x_plot,degree=deg)\n",
    "y_pred_te_plot = linR.predict(X_te_plot)\n",
    "plt.plot(x_plot,y_pred_te_plot,color='g',label='prediction line',alpha=0.5)\n",
    "plt.legend()\n",
    "plt.xlabel(\"x\",fontsize=16)\n",
    "plt.ylabel(\"y\",fontsize=16);\n",
    "print(\"MSE test set=\",np.round(np.sum((y_pred_te-y_te)**2)/len(y_te),4))"
   ]
  },
  {
   "cell_type": "code",
   "execution_count": 86,
   "metadata": {},
   "outputs": [
    {
     "data": {
      "text/plain": [
       "array([ 0.46444193, -0.08110396, -0.80356895, -1.07203034, -0.92171711,\n",
       "       -0.75496826, -0.68950409, -0.33904632, -0.39943828, -0.52864518])"
      ]
     },
     "execution_count": 86,
     "metadata": {},
     "output_type": "execute_result"
    }
   ],
   "source": [
    "y_tr"
   ]
  },
  {
   "cell_type": "markdown",
   "metadata": {},
   "source": [
    "## LOO cross-validation\n",
    "We can do LOO with a for loop"
   ]
  },
  {
   "cell_type": "code",
   "execution_count": 83,
   "metadata": {},
   "outputs": [
    {
     "name": "stdout",
     "output_type": "stream",
     "text": [
      "TRAIN: [1 2 3 4 5 6 7 8 9] TEST: [0]\n",
      "Our class\n",
      "Our fit\n",
      "Our prediction\n",
      "TRAIN: [0 2 3 4 5 6 7 8 9] TEST: [1]\n",
      "Our class\n",
      "Our fit\n",
      "Our prediction\n",
      "TRAIN: [0 1 3 4 5 6 7 8 9] TEST: [2]\n",
      "Our class\n",
      "Our fit\n",
      "Our prediction\n",
      "TRAIN: [0 1 2 4 5 6 7 8 9] TEST: [3]\n",
      "Our class\n",
      "Our fit\n",
      "Our prediction\n",
      "TRAIN: [0 1 2 3 5 6 7 8 9] TEST: [4]\n",
      "Our class\n",
      "Our fit\n",
      "Our prediction\n",
      "TRAIN: [0 1 2 3 4 6 7 8 9] TEST: [5]\n",
      "Our class\n",
      "Our fit\n",
      "Our prediction\n",
      "TRAIN: [0 1 2 3 4 5 7 8 9] TEST: [6]\n",
      "Our class\n",
      "Our fit\n",
      "Our prediction\n",
      "TRAIN: [0 1 2 3 4 5 6 8 9] TEST: [7]\n",
      "Our class\n",
      "Our fit\n",
      "Our prediction\n",
      "TRAIN: [0 1 2 3 4 5 6 7 9] TEST: [8]\n",
      "Our class\n",
      "Our fit\n",
      "Our prediction\n",
      "TRAIN: [0 1 2 3 4 5 6 7 8] TEST: [9]\n",
      "Our class\n",
      "Our fit\n",
      "Our prediction\n",
      "LOO score= 0.1882\n"
     ]
    }
   ],
   "source": [
    "from sklearn.model_selection import LeaveOneOut\n",
    "loo = LeaveOneOut()\n",
    "E = 0\n",
    "ntimes=0\n",
    "for train_index, test_index in loo.split(X_tr):\n",
    "    print(\"TRAIN:\", train_index, \"TEST:\", test_index)\n",
    "    X_train, X_test = X_tr[train_index], X_tr[test_index]\n",
    "    y_train, y_test = y_tr[train_index], y_tr[test_index]\n",
    "    linR=LinearRegression()\n",
    "    linR.fit(X_train,y_train)\n",
    "    y_pred=linR.predict(X_test)\n",
    "    #print(X_test)\n",
    "    #print(np.sum((y_pred-y_test)**2))\n",
    "    E = E + np.sum((y_pred-y_test)**2)/len(y_test)\n",
    "    ntimes=ntimes+1\n",
    "\n",
    "print(\"LOO score=\",np.round( E/ntimes,4))"
   ]
  },
  {
   "cell_type": "markdown",
   "metadata": {},
   "source": [
    "We can do the same analytically without the for-loop`"
   ]
  },
  {
   "cell_type": "code",
   "execution_count": 87,
   "metadata": {},
   "outputs": [
    {
     "name": "stdout",
     "output_type": "stream",
     "text": [
      "Our class\n",
      "Our fit\n",
      "Our prediction\n",
      "MSE train set= 0.0615\n",
      "LOO score= 0.1882\n"
     ]
    },
    {
     "data": {
      "image/png": "[encoded data removed]",
      "text/plain": [
       "<Figure size 432x288 with 1 Axes>"
      ]
     },
     "metadata": {
      "needs_background": "light"
     },
     "output_type": "display_data"
    }
   ],
   "source": [
    "#we train the model using ALL data\n",
    "linR=LinearRegression()\n",
    "linR.fit(X_tr,y_tr)\n",
    "y_pred_tr = linR.predict(X_tr)\n",
    "\n",
    "#LOO error\n",
    "R = np.matmul(X_tr,np.matmul(np.linalg.inv(np.matmul(X_tr.T,X_tr)),X_tr.T))\n",
    "e = y_tr-y_pred_tr\n",
    "CV = np.mean((e/(1-np.diag(R)))**2)\n",
    "\n",
    "#training dataset\n",
    "plt.scatter(x_tr,y_tr,color='b',label='training');\n",
    "plt.scatter(x_tr,y_pred_tr,color='g',label='prediction',alpha=0.6,Zorder=1000);\n",
    "plt.legend()\n",
    "plt.xlabel(\"x\",fontsize=16)\n",
    "plt.ylabel(\"y\",fontsize=16);\n",
    "print(\"MSE train set=\",np.round(np.sum((y_pred_tr-y_tr)**2)/len(y_tr),4))\n",
    "print(\"LOO score=\",np.round(CV,4))"
   ]
  },
  {
   "cell_type": "markdown",
   "metadata": {},
   "source": [
    "We can get exactly the same result without a foor loop"
   ]
  },
  {
   "cell_type": "markdown",
   "metadata": {},
   "source": [
    "## Questions\n",
    "1. Try to increase the degree deg=3, deg=4 etc., re-run everything and look at the difference\n",
    "between the MSE computed on the training dataset and the LOO error. You should be able to see that LOO gives you an optimal model that has a degree around 4."
   ]
  },
  {
   "cell_type": "code",
   "execution_count": null,
   "metadata": {},
   "outputs": [],
   "source": []
  }
 ],
 "metadata": {
  "kernelspec": {
   "display_name": "Python 3",
   "language": "python",
   "name": "python3"
  },
  "language_info": {
   "codemirror_mode": {
    "name": "ipython",
    "version": 3
   },
   "file_extension": ".py",
   "mimetype": "text/x-python",
   "name": "python",
   "nbconvert_exporter": "python",
   "pygments_lexer": "ipython3",
   "version": "3.7.3"
  }
 },
 "nbformat": 4,
 "nbformat_minor": 2
}
