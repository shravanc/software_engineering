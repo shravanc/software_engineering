{
  "nbformat": 4,
  "nbformat_minor": 0,
  "metadata": {
    "colab": {
      "name": "PCA_on_taxi_data.ipynb",
      "provenance": [],
      "collapsed_sections": []
    },
    "kernelspec": {
      "name": "python3",
      "display_name": "Python 3"
    }
  },
  "cells": [
    {
      "cell_type": "code",
      "metadata": {
        "id": "Q8N4eoUNxkRC",
        "colab_type": "code",
        "colab": {}
      },
      "source": [
        "import numpy as np\n",
        "import pandas as pd\n",
        "import matplotlib.pyplot as plotter\n"
      ],
      "execution_count": 0,
      "outputs": []
    },
    {
      "cell_type": "code",
      "metadata": {
        "id": "rWygLVMCG-VW",
        "colab_type": "code",
        "outputId": "88afab1f-75d5-426a-8a00-9daa19508609",
        "colab": {
          "base_uri": "https://localhost:8080/",
          "height": 517
        }
      },
      "source": [
        "url = 'https://raw.githubusercontent.com/shravanc/datasets/master/bq-results-20200507-161505-3qbbuf2p2f3d.csv'\n",
        "df = pd.read_csv(url)\n",
        "df.head(5)"
      ],
      "execution_count": 70,
      "outputs": [
        {
          "output_type": "execute_result",
          "data": {
            "text/html": [
              "<div>\n",
              "<style scoped>\n",
              "    .dataframe tbody tr th:only-of-type {\n",
              "        vertical-align: middle;\n",
              "    }\n",
              "\n",
              "    .dataframe tbody tr th {\n",
              "        vertical-align: top;\n",
              "    }\n",
              "\n",
              "    .dataframe thead th {\n",
              "        text-align: right;\n",
              "    }\n",
              "</style>\n",
              "<table border=\"1\" class=\"dataframe\">\n",
              "  <thead>\n",
              "    <tr style=\"text-align: right;\">\n",
              "      <th></th>\n",
              "      <th>unique_key</th>\n",
              "      <th>taxi_id</th>\n",
              "      <th>trip_start_timestamp</th>\n",
              "      <th>trip_end_timestamp</th>\n",
              "      <th>trip_seconds</th>\n",
              "      <th>trip_miles</th>\n",
              "      <th>pickup_census_tract</th>\n",
              "      <th>dropoff_census_tract</th>\n",
              "      <th>pickup_community_area</th>\n",
              "      <th>dropoff_community_area</th>\n",
              "      <th>fare</th>\n",
              "      <th>tips</th>\n",
              "      <th>tolls</th>\n",
              "      <th>extras</th>\n",
              "      <th>trip_total</th>\n",
              "      <th>payment_type</th>\n",
              "      <th>company</th>\n",
              "      <th>pickup_latitude</th>\n",
              "      <th>pickup_longitude</th>\n",
              "      <th>pickup_location</th>\n",
              "      <th>dropoff_latitude</th>\n",
              "      <th>dropoff_longitude</th>\n",
              "      <th>dropoff_location</th>\n",
              "    </tr>\n",
              "  </thead>\n",
              "  <tbody>\n",
              "    <tr>\n",
              "      <th>0</th>\n",
              "      <td>20673f3890699af8773ff17dcf6be1d085849d29</td>\n",
              "      <td>df0730de65d455fc451fcb38dd627f877943cf490f5719...</td>\n",
              "      <td>2015-06-16 12:45:00 UTC</td>\n",
              "      <td>2015-06-16 12:45:00 UTC</td>\n",
              "      <td>0</td>\n",
              "      <td>0.0</td>\n",
              "      <td>NaN</td>\n",
              "      <td>NaN</td>\n",
              "      <td>NaN</td>\n",
              "      <td>NaN</td>\n",
              "      <td>4.45</td>\n",
              "      <td>0.89</td>\n",
              "      <td>0</td>\n",
              "      <td>0.0</td>\n",
              "      <td>5.34</td>\n",
              "      <td>Credit Card</td>\n",
              "      <td>Chicago Elite Cab Corp. (Chicago Carriag</td>\n",
              "      <td>NaN</td>\n",
              "      <td>NaN</td>\n",
              "      <td>NaN</td>\n",
              "      <td>NaN</td>\n",
              "      <td>NaN</td>\n",
              "      <td>NaN</td>\n",
              "    </tr>\n",
              "    <tr>\n",
              "      <th>1</th>\n",
              "      <td>7ce80b3454ceb7d17c7b9129189eb8589d8a078a</td>\n",
              "      <td>6134198478cbb4036810920580fb810895aac6beefdb35...</td>\n",
              "      <td>2015-06-01 18:00:00 UTC</td>\n",
              "      <td>2015-06-01 18:30:00 UTC</td>\n",
              "      <td>1500</td>\n",
              "      <td>0.0</td>\n",
              "      <td>NaN</td>\n",
              "      <td>NaN</td>\n",
              "      <td>NaN</td>\n",
              "      <td>NaN</td>\n",
              "      <td>18.45</td>\n",
              "      <td>0.00</td>\n",
              "      <td>0</td>\n",
              "      <td>0.0</td>\n",
              "      <td>18.45</td>\n",
              "      <td>Cash</td>\n",
              "      <td>Dispatch Taxi Affiliation</td>\n",
              "      <td>NaN</td>\n",
              "      <td>NaN</td>\n",
              "      <td>NaN</td>\n",
              "      <td>NaN</td>\n",
              "      <td>NaN</td>\n",
              "      <td>NaN</td>\n",
              "    </tr>\n",
              "    <tr>\n",
              "      <th>2</th>\n",
              "      <td>582f8e5513a72067e3e8506ddb75efcdb895131f</td>\n",
              "      <td>b9632eb791cbe59186d994429adcca3bc62c7156ce3464...</td>\n",
              "      <td>2015-06-27 19:30:00 UTC</td>\n",
              "      <td>2015-06-27 19:30:00 UTC</td>\n",
              "      <td>0</td>\n",
              "      <td>0.0</td>\n",
              "      <td>NaN</td>\n",
              "      <td>NaN</td>\n",
              "      <td>NaN</td>\n",
              "      <td>NaN</td>\n",
              "      <td>20.05</td>\n",
              "      <td>5.00</td>\n",
              "      <td>0</td>\n",
              "      <td>0.0</td>\n",
              "      <td>25.05</td>\n",
              "      <td>Credit Card</td>\n",
              "      <td>Chicago Elite Cab Corp. (Chicago Carriag</td>\n",
              "      <td>NaN</td>\n",
              "      <td>NaN</td>\n",
              "      <td>NaN</td>\n",
              "      <td>NaN</td>\n",
              "      <td>NaN</td>\n",
              "      <td>NaN</td>\n",
              "    </tr>\n",
              "    <tr>\n",
              "      <th>3</th>\n",
              "      <td>55145e64c7ed5c19f5a6e3547977ee7ea1f2247d</td>\n",
              "      <td>a8107c5481ea5eed4d6fa93cd1648f3f69c6822a6fff49...</td>\n",
              "      <td>2015-06-27 22:45:00 UTC</td>\n",
              "      <td>2015-06-27 22:45:00 UTC</td>\n",
              "      <td>0</td>\n",
              "      <td>0.0</td>\n",
              "      <td>NaN</td>\n",
              "      <td>NaN</td>\n",
              "      <td>NaN</td>\n",
              "      <td>NaN</td>\n",
              "      <td>7.85</td>\n",
              "      <td>2.36</td>\n",
              "      <td>0</td>\n",
              "      <td>0.0</td>\n",
              "      <td>10.21</td>\n",
              "      <td>Credit Card</td>\n",
              "      <td>Chicago Elite Cab Corp. (Chicago Carriag</td>\n",
              "      <td>NaN</td>\n",
              "      <td>NaN</td>\n",
              "      <td>NaN</td>\n",
              "      <td>NaN</td>\n",
              "      <td>NaN</td>\n",
              "      <td>NaN</td>\n",
              "    </tr>\n",
              "    <tr>\n",
              "      <th>4</th>\n",
              "      <td>2a79608e185ace464535511fa7a95e43fa06135f</td>\n",
              "      <td>7f8be35bf085d7490245401fe27b274624245d8e76ae11...</td>\n",
              "      <td>2015-09-01 17:15:00 UTC</td>\n",
              "      <td>2015-09-01 17:15:00 UTC</td>\n",
              "      <td>0</td>\n",
              "      <td>0.0</td>\n",
              "      <td>NaN</td>\n",
              "      <td>NaN</td>\n",
              "      <td>NaN</td>\n",
              "      <td>NaN</td>\n",
              "      <td>38.85</td>\n",
              "      <td>9.71</td>\n",
              "      <td>0</td>\n",
              "      <td>0.0</td>\n",
              "      <td>48.56</td>\n",
              "      <td>Credit Card</td>\n",
              "      <td>Chicago Elite Cab Corp. (Chicago Carriag</td>\n",
              "      <td>NaN</td>\n",
              "      <td>NaN</td>\n",
              "      <td>NaN</td>\n",
              "      <td>NaN</td>\n",
              "      <td>NaN</td>\n",
              "      <td>NaN</td>\n",
              "    </tr>\n",
              "  </tbody>\n",
              "</table>\n",
              "</div>"
            ],
            "text/plain": [
              "                                 unique_key  ... dropoff_location\n",
              "0  20673f3890699af8773ff17dcf6be1d085849d29  ...              NaN\n",
              "1  7ce80b3454ceb7d17c7b9129189eb8589d8a078a  ...              NaN\n",
              "2  582f8e5513a72067e3e8506ddb75efcdb895131f  ...              NaN\n",
              "3  55145e64c7ed5c19f5a6e3547977ee7ea1f2247d  ...              NaN\n",
              "4  2a79608e185ace464535511fa7a95e43fa06135f  ...              NaN\n",
              "\n",
              "[5 rows x 23 columns]"
            ]
          },
          "metadata": {
            "tags": []
          },
          "execution_count": 70
        }
      ]
    },
    {
      "cell_type": "code",
      "metadata": {
        "id": "-24RajKoME2-",
        "colab_type": "code",
        "outputId": "e1932900-a682-4605-9112-636680301c21",
        "colab": {
          "base_uri": "https://localhost:8080/",
          "height": 307
        }
      },
      "source": [
        "df.describe()"
      ],
      "execution_count": 71,
      "outputs": [
        {
          "output_type": "execute_result",
          "data": {
            "text/html": [
              "<div>\n",
              "<style scoped>\n",
              "    .dataframe tbody tr th:only-of-type {\n",
              "        vertical-align: middle;\n",
              "    }\n",
              "\n",
              "    .dataframe tbody tr th {\n",
              "        vertical-align: top;\n",
              "    }\n",
              "\n",
              "    .dataframe thead th {\n",
              "        text-align: right;\n",
              "    }\n",
              "</style>\n",
              "<table border=\"1\" class=\"dataframe\">\n",
              "  <thead>\n",
              "    <tr style=\"text-align: right;\">\n",
              "      <th></th>\n",
              "      <th>trip_seconds</th>\n",
              "      <th>trip_miles</th>\n",
              "      <th>pickup_census_tract</th>\n",
              "      <th>dropoff_census_tract</th>\n",
              "      <th>pickup_community_area</th>\n",
              "      <th>dropoff_community_area</th>\n",
              "      <th>fare</th>\n",
              "      <th>tips</th>\n",
              "      <th>tolls</th>\n",
              "      <th>extras</th>\n",
              "      <th>trip_total</th>\n",
              "      <th>pickup_latitude</th>\n",
              "      <th>pickup_longitude</th>\n",
              "      <th>pickup_location</th>\n",
              "      <th>dropoff_latitude</th>\n",
              "      <th>dropoff_longitude</th>\n",
              "      <th>dropoff_location</th>\n",
              "    </tr>\n",
              "  </thead>\n",
              "  <tbody>\n",
              "    <tr>\n",
              "      <th>count</th>\n",
              "      <td>1000.000000</td>\n",
              "      <td>1000.000000</td>\n",
              "      <td>0.0</td>\n",
              "      <td>0.0</td>\n",
              "      <td>0.0</td>\n",
              "      <td>0.0</td>\n",
              "      <td>1000.000000</td>\n",
              "      <td>1000.00000</td>\n",
              "      <td>1000.0</td>\n",
              "      <td>1000.00000</td>\n",
              "      <td>1000.000000</td>\n",
              "      <td>0.0</td>\n",
              "      <td>0.0</td>\n",
              "      <td>0.0</td>\n",
              "      <td>0.0</td>\n",
              "      <td>0.0</td>\n",
              "      <td>0.0</td>\n",
              "    </tr>\n",
              "    <tr>\n",
              "      <th>mean</th>\n",
              "      <td>94.980000</td>\n",
              "      <td>0.228900</td>\n",
              "      <td>NaN</td>\n",
              "      <td>NaN</td>\n",
              "      <td>NaN</td>\n",
              "      <td>NaN</td>\n",
              "      <td>17.379220</td>\n",
              "      <td>2.89196</td>\n",
              "      <td>0.0</td>\n",
              "      <td>0.30325</td>\n",
              "      <td>20.574430</td>\n",
              "      <td>NaN</td>\n",
              "      <td>NaN</td>\n",
              "      <td>NaN</td>\n",
              "      <td>NaN</td>\n",
              "      <td>NaN</td>\n",
              "      <td>NaN</td>\n",
              "    </tr>\n",
              "    <tr>\n",
              "      <th>std</th>\n",
              "      <td>561.815304</td>\n",
              "      <td>1.645668</td>\n",
              "      <td>NaN</td>\n",
              "      <td>NaN</td>\n",
              "      <td>NaN</td>\n",
              "      <td>NaN</td>\n",
              "      <td>14.701652</td>\n",
              "      <td>2.83233</td>\n",
              "      <td>0.0</td>\n",
              "      <td>3.39914</td>\n",
              "      <td>16.974299</td>\n",
              "      <td>NaN</td>\n",
              "      <td>NaN</td>\n",
              "      <td>NaN</td>\n",
              "      <td>NaN</td>\n",
              "      <td>NaN</td>\n",
              "      <td>NaN</td>\n",
              "    </tr>\n",
              "    <tr>\n",
              "      <th>min</th>\n",
              "      <td>0.000000</td>\n",
              "      <td>0.000000</td>\n",
              "      <td>NaN</td>\n",
              "      <td>NaN</td>\n",
              "      <td>NaN</td>\n",
              "      <td>NaN</td>\n",
              "      <td>0.000000</td>\n",
              "      <td>0.00000</td>\n",
              "      <td>0.0</td>\n",
              "      <td>0.00000</td>\n",
              "      <td>0.000000</td>\n",
              "      <td>NaN</td>\n",
              "      <td>NaN</td>\n",
              "      <td>NaN</td>\n",
              "      <td>NaN</td>\n",
              "      <td>NaN</td>\n",
              "      <td>NaN</td>\n",
              "    </tr>\n",
              "    <tr>\n",
              "      <th>25%</th>\n",
              "      <td>0.000000</td>\n",
              "      <td>0.000000</td>\n",
              "      <td>NaN</td>\n",
              "      <td>NaN</td>\n",
              "      <td>NaN</td>\n",
              "      <td>NaN</td>\n",
              "      <td>7.450000</td>\n",
              "      <td>1.21000</td>\n",
              "      <td>0.0</td>\n",
              "      <td>0.00000</td>\n",
              "      <td>8.940000</td>\n",
              "      <td>NaN</td>\n",
              "      <td>NaN</td>\n",
              "      <td>NaN</td>\n",
              "      <td>NaN</td>\n",
              "      <td>NaN</td>\n",
              "      <td>NaN</td>\n",
              "    </tr>\n",
              "    <tr>\n",
              "      <th>50%</th>\n",
              "      <td>0.000000</td>\n",
              "      <td>0.000000</td>\n",
              "      <td>NaN</td>\n",
              "      <td>NaN</td>\n",
              "      <td>NaN</td>\n",
              "      <td>NaN</td>\n",
              "      <td>10.450000</td>\n",
              "      <td>2.00000</td>\n",
              "      <td>0.0</td>\n",
              "      <td>0.00000</td>\n",
              "      <td>12.300000</td>\n",
              "      <td>NaN</td>\n",
              "      <td>NaN</td>\n",
              "      <td>NaN</td>\n",
              "      <td>NaN</td>\n",
              "      <td>NaN</td>\n",
              "      <td>NaN</td>\n",
              "    </tr>\n",
              "    <tr>\n",
              "      <th>75%</th>\n",
              "      <td>0.000000</td>\n",
              "      <td>0.000000</td>\n",
              "      <td>NaN</td>\n",
              "      <td>NaN</td>\n",
              "      <td>NaN</td>\n",
              "      <td>NaN</td>\n",
              "      <td>26.050000</td>\n",
              "      <td>3.91250</td>\n",
              "      <td>0.0</td>\n",
              "      <td>0.00000</td>\n",
              "      <td>30.642500</td>\n",
              "      <td>NaN</td>\n",
              "      <td>NaN</td>\n",
              "      <td>NaN</td>\n",
              "      <td>NaN</td>\n",
              "      <td>NaN</td>\n",
              "      <td>NaN</td>\n",
              "    </tr>\n",
              "    <tr>\n",
              "      <th>max</th>\n",
              "      <td>14400.000000</td>\n",
              "      <td>23.700000</td>\n",
              "      <td>NaN</td>\n",
              "      <td>NaN</td>\n",
              "      <td>NaN</td>\n",
              "      <td>NaN</td>\n",
              "      <td>128.650000</td>\n",
              "      <td>25.73000</td>\n",
              "      <td>0.0</td>\n",
              "      <td>71.00000</td>\n",
              "      <td>154.380000</td>\n",
              "      <td>NaN</td>\n",
              "      <td>NaN</td>\n",
              "      <td>NaN</td>\n",
              "      <td>NaN</td>\n",
              "      <td>NaN</td>\n",
              "      <td>NaN</td>\n",
              "    </tr>\n",
              "  </tbody>\n",
              "</table>\n",
              "</div>"
            ],
            "text/plain": [
              "       trip_seconds   trip_miles  ...  dropoff_longitude  dropoff_location\n",
              "count   1000.000000  1000.000000  ...                0.0               0.0\n",
              "mean      94.980000     0.228900  ...                NaN               NaN\n",
              "std      561.815304     1.645668  ...                NaN               NaN\n",
              "min        0.000000     0.000000  ...                NaN               NaN\n",
              "25%        0.000000     0.000000  ...                NaN               NaN\n",
              "50%        0.000000     0.000000  ...                NaN               NaN\n",
              "75%        0.000000     0.000000  ...                NaN               NaN\n",
              "max    14400.000000    23.700000  ...                NaN               NaN\n",
              "\n",
              "[8 rows x 17 columns]"
            ]
          },
          "metadata": {
            "tags": []
          },
          "execution_count": 71
        }
      ]
    },
    {
      "cell_type": "code",
      "metadata": {
        "id": "LpJsHLGQMGnC",
        "colab_type": "code",
        "outputId": "7d3a0cf1-9ee8-4874-8134-c55f3cb7e7a3",
        "colab": {
          "base_uri": "https://localhost:8080/",
          "height": 443
        }
      },
      "source": [
        "df.isna().sum()"
      ],
      "execution_count": 72,
      "outputs": [
        {
          "output_type": "execute_result",
          "data": {
            "text/plain": [
              "unique_key                   0\n",
              "taxi_id                      0\n",
              "trip_start_timestamp         0\n",
              "trip_end_timestamp           0\n",
              "trip_seconds                 0\n",
              "trip_miles                   0\n",
              "pickup_census_tract       1000\n",
              "dropoff_census_tract      1000\n",
              "pickup_community_area     1000\n",
              "dropoff_community_area    1000\n",
              "fare                         0\n",
              "tips                         0\n",
              "tolls                        0\n",
              "extras                       0\n",
              "trip_total                   0\n",
              "payment_type                 0\n",
              "company                      0\n",
              "pickup_latitude           1000\n",
              "pickup_longitude          1000\n",
              "pickup_location           1000\n",
              "dropoff_latitude          1000\n",
              "dropoff_longitude         1000\n",
              "dropoff_location          1000\n",
              "dtype: int64"
            ]
          },
          "metadata": {
            "tags": []
          },
          "execution_count": 72
        }
      ]
    },
    {
      "cell_type": "code",
      "metadata": {
        "id": "GxuOfZKwLkTd",
        "colab_type": "code",
        "colab": {}
      },
      "source": [
        "columns_to_remove = ['unique_key', 'taxi_id', 'trip_start_timestamp', 'trip_end_timestamp']\n",
        "empty_columns = ['pickup_census_tract', 'dropoff_census_tract', 'pickup_community_area', 'dropoff_community_area', 'pickup_latitude', 'pickup_longitude', 'pickup_location', 'dropoff_latitude', 'dropoff_longitude', 'dropoff_location']"
      ],
      "execution_count": 0,
      "outputs": []
    },
    {
      "cell_type": "code",
      "metadata": {
        "id": "4X9QRfSvNOQh",
        "colab_type": "code",
        "outputId": "462ff2de-8250-4716-9cbe-04627fe7a151",
        "colab": {
          "base_uri": "https://localhost:8080/",
          "height": 197
        }
      },
      "source": [
        "df = df.drop(columns_to_remove, axis=1)\n",
        "df = df.drop(empty_columns, axis=1)\n",
        "df.head()"
      ],
      "execution_count": 74,
      "outputs": [
        {
          "output_type": "execute_result",
          "data": {
            "text/html": [
              "<div>\n",
              "<style scoped>\n",
              "    .dataframe tbody tr th:only-of-type {\n",
              "        vertical-align: middle;\n",
              "    }\n",
              "\n",
              "    .dataframe tbody tr th {\n",
              "        vertical-align: top;\n",
              "    }\n",
              "\n",
              "    .dataframe thead th {\n",
              "        text-align: right;\n",
              "    }\n",
              "</style>\n",
              "<table border=\"1\" class=\"dataframe\">\n",
              "  <thead>\n",
              "    <tr style=\"text-align: right;\">\n",
              "      <th></th>\n",
              "      <th>trip_seconds</th>\n",
              "      <th>trip_miles</th>\n",
              "      <th>fare</th>\n",
              "      <th>tips</th>\n",
              "      <th>tolls</th>\n",
              "      <th>extras</th>\n",
              "      <th>trip_total</th>\n",
              "      <th>payment_type</th>\n",
              "      <th>company</th>\n",
              "    </tr>\n",
              "  </thead>\n",
              "  <tbody>\n",
              "    <tr>\n",
              "      <th>0</th>\n",
              "      <td>0</td>\n",
              "      <td>0.0</td>\n",
              "      <td>4.45</td>\n",
              "      <td>0.89</td>\n",
              "      <td>0</td>\n",
              "      <td>0.0</td>\n",
              "      <td>5.34</td>\n",
              "      <td>Credit Card</td>\n",
              "      <td>Chicago Elite Cab Corp. (Chicago Carriag</td>\n",
              "    </tr>\n",
              "    <tr>\n",
              "      <th>1</th>\n",
              "      <td>1500</td>\n",
              "      <td>0.0</td>\n",
              "      <td>18.45</td>\n",
              "      <td>0.00</td>\n",
              "      <td>0</td>\n",
              "      <td>0.0</td>\n",
              "      <td>18.45</td>\n",
              "      <td>Cash</td>\n",
              "      <td>Dispatch Taxi Affiliation</td>\n",
              "    </tr>\n",
              "    <tr>\n",
              "      <th>2</th>\n",
              "      <td>0</td>\n",
              "      <td>0.0</td>\n",
              "      <td>20.05</td>\n",
              "      <td>5.00</td>\n",
              "      <td>0</td>\n",
              "      <td>0.0</td>\n",
              "      <td>25.05</td>\n",
              "      <td>Credit Card</td>\n",
              "      <td>Chicago Elite Cab Corp. (Chicago Carriag</td>\n",
              "    </tr>\n",
              "    <tr>\n",
              "      <th>3</th>\n",
              "      <td>0</td>\n",
              "      <td>0.0</td>\n",
              "      <td>7.85</td>\n",
              "      <td>2.36</td>\n",
              "      <td>0</td>\n",
              "      <td>0.0</td>\n",
              "      <td>10.21</td>\n",
              "      <td>Credit Card</td>\n",
              "      <td>Chicago Elite Cab Corp. (Chicago Carriag</td>\n",
              "    </tr>\n",
              "    <tr>\n",
              "      <th>4</th>\n",
              "      <td>0</td>\n",
              "      <td>0.0</td>\n",
              "      <td>38.85</td>\n",
              "      <td>9.71</td>\n",
              "      <td>0</td>\n",
              "      <td>0.0</td>\n",
              "      <td>48.56</td>\n",
              "      <td>Credit Card</td>\n",
              "      <td>Chicago Elite Cab Corp. (Chicago Carriag</td>\n",
              "    </tr>\n",
              "  </tbody>\n",
              "</table>\n",
              "</div>"
            ],
            "text/plain": [
              "   trip_seconds  ...                                   company\n",
              "0             0  ...  Chicago Elite Cab Corp. (Chicago Carriag\n",
              "1          1500  ...                 Dispatch Taxi Affiliation\n",
              "2             0  ...  Chicago Elite Cab Corp. (Chicago Carriag\n",
              "3             0  ...  Chicago Elite Cab Corp. (Chicago Carriag\n",
              "4             0  ...  Chicago Elite Cab Corp. (Chicago Carriag\n",
              "\n",
              "[5 rows x 9 columns]"
            ]
          },
          "metadata": {
            "tags": []
          },
          "execution_count": 74
        }
      ]
    },
    {
      "cell_type": "code",
      "metadata": {
        "id": "iVxY_I30VxMI",
        "colab_type": "code",
        "outputId": "991461eb-65fd-4199-9993-ec564cd48b80",
        "colab": {
          "base_uri": "https://localhost:8080/",
          "height": 230
        }
      },
      "source": [
        "df['company'].value_counts()"
      ],
      "execution_count": 75,
      "outputs": [
        {
          "output_type": "execute_result",
          "data": {
            "text/plain": [
              "Chicago Elite Cab Corp. (Chicago Carriag    753\n",
              "Suburban Dispatch LLC                        82\n",
              "T.A.S. - Payment Only                        59\n",
              "Blue Ribbon Taxi Association Inc.            31\n",
              "Choice Taxi Association                      27\n",
              "Taxi Affiliation Services                    23\n",
              "Dispatch Taxi Affiliation                     9\n",
              "Top Cab Affiliation                           6\n",
              "Northwest Management LLC                      5\n",
              "Chicago Medallion Management                  4\n",
              "4787 - 56058 Reny Cab Co                      1\n",
              "Name: company, dtype: int64"
            ]
          },
          "metadata": {
            "tags": []
          },
          "execution_count": 75
        }
      ]
    },
    {
      "cell_type": "code",
      "metadata": {
        "id": "CfVdkYQtNt2X",
        "colab_type": "code",
        "outputId": "1ef09b05-0749-4b32-8903-fa462b2ccd61",
        "colab": {
          "base_uri": "https://localhost:8080/",
          "height": 267
        }
      },
      "source": [
        "df = pd.get_dummies(df, drop_first=True)\n",
        "df.head()"
      ],
      "execution_count": 76,
      "outputs": [
        {
          "output_type": "execute_result",
          "data": {
            "text/html": [
              "<div>\n",
              "<style scoped>\n",
              "    .dataframe tbody tr th:only-of-type {\n",
              "        vertical-align: middle;\n",
              "    }\n",
              "\n",
              "    .dataframe tbody tr th {\n",
              "        vertical-align: top;\n",
              "    }\n",
              "\n",
              "    .dataframe thead th {\n",
              "        text-align: right;\n",
              "    }\n",
              "</style>\n",
              "<table border=\"1\" class=\"dataframe\">\n",
              "  <thead>\n",
              "    <tr style=\"text-align: right;\">\n",
              "      <th></th>\n",
              "      <th>trip_seconds</th>\n",
              "      <th>trip_miles</th>\n",
              "      <th>fare</th>\n",
              "      <th>tips</th>\n",
              "      <th>tolls</th>\n",
              "      <th>extras</th>\n",
              "      <th>trip_total</th>\n",
              "      <th>payment_type_Credit Card</th>\n",
              "      <th>payment_type_Dispute</th>\n",
              "      <th>payment_type_No Charge</th>\n",
              "      <th>company_Blue Ribbon Taxi Association Inc.</th>\n",
              "      <th>company_Chicago Elite Cab Corp. (Chicago Carriag</th>\n",
              "      <th>company_Chicago Medallion Management</th>\n",
              "      <th>company_Choice Taxi Association</th>\n",
              "      <th>company_Dispatch Taxi Affiliation</th>\n",
              "      <th>company_Northwest Management LLC</th>\n",
              "      <th>company_Suburban Dispatch LLC</th>\n",
              "      <th>company_T.A.S. - Payment Only</th>\n",
              "      <th>company_Taxi Affiliation Services</th>\n",
              "      <th>company_Top Cab Affiliation</th>\n",
              "    </tr>\n",
              "  </thead>\n",
              "  <tbody>\n",
              "    <tr>\n",
              "      <th>0</th>\n",
              "      <td>0</td>\n",
              "      <td>0.0</td>\n",
              "      <td>4.45</td>\n",
              "      <td>0.89</td>\n",
              "      <td>0</td>\n",
              "      <td>0.0</td>\n",
              "      <td>5.34</td>\n",
              "      <td>1</td>\n",
              "      <td>0</td>\n",
              "      <td>0</td>\n",
              "      <td>0</td>\n",
              "      <td>1</td>\n",
              "      <td>0</td>\n",
              "      <td>0</td>\n",
              "      <td>0</td>\n",
              "      <td>0</td>\n",
              "      <td>0</td>\n",
              "      <td>0</td>\n",
              "      <td>0</td>\n",
              "      <td>0</td>\n",
              "    </tr>\n",
              "    <tr>\n",
              "      <th>1</th>\n",
              "      <td>1500</td>\n",
              "      <td>0.0</td>\n",
              "      <td>18.45</td>\n",
              "      <td>0.00</td>\n",
              "      <td>0</td>\n",
              "      <td>0.0</td>\n",
              "      <td>18.45</td>\n",
              "      <td>0</td>\n",
              "      <td>0</td>\n",
              "      <td>0</td>\n",
              "      <td>0</td>\n",
              "      <td>0</td>\n",
              "      <td>0</td>\n",
              "      <td>0</td>\n",
              "      <td>1</td>\n",
              "      <td>0</td>\n",
              "      <td>0</td>\n",
              "      <td>0</td>\n",
              "      <td>0</td>\n",
              "      <td>0</td>\n",
              "    </tr>\n",
              "    <tr>\n",
              "      <th>2</th>\n",
              "      <td>0</td>\n",
              "      <td>0.0</td>\n",
              "      <td>20.05</td>\n",
              "      <td>5.00</td>\n",
              "      <td>0</td>\n",
              "      <td>0.0</td>\n",
              "      <td>25.05</td>\n",
              "      <td>1</td>\n",
              "      <td>0</td>\n",
              "      <td>0</td>\n",
              "      <td>0</td>\n",
              "      <td>1</td>\n",
              "      <td>0</td>\n",
              "      <td>0</td>\n",
              "      <td>0</td>\n",
              "      <td>0</td>\n",
              "      <td>0</td>\n",
              "      <td>0</td>\n",
              "      <td>0</td>\n",
              "      <td>0</td>\n",
              "    </tr>\n",
              "    <tr>\n",
              "      <th>3</th>\n",
              "      <td>0</td>\n",
              "      <td>0.0</td>\n",
              "      <td>7.85</td>\n",
              "      <td>2.36</td>\n",
              "      <td>0</td>\n",
              "      <td>0.0</td>\n",
              "      <td>10.21</td>\n",
              "      <td>1</td>\n",
              "      <td>0</td>\n",
              "      <td>0</td>\n",
              "      <td>0</td>\n",
              "      <td>1</td>\n",
              "      <td>0</td>\n",
              "      <td>0</td>\n",
              "      <td>0</td>\n",
              "      <td>0</td>\n",
              "      <td>0</td>\n",
              "      <td>0</td>\n",
              "      <td>0</td>\n",
              "      <td>0</td>\n",
              "    </tr>\n",
              "    <tr>\n",
              "      <th>4</th>\n",
              "      <td>0</td>\n",
              "      <td>0.0</td>\n",
              "      <td>38.85</td>\n",
              "      <td>9.71</td>\n",
              "      <td>0</td>\n",
              "      <td>0.0</td>\n",
              "      <td>48.56</td>\n",
              "      <td>1</td>\n",
              "      <td>0</td>\n",
              "      <td>0</td>\n",
              "      <td>0</td>\n",
              "      <td>1</td>\n",
              "      <td>0</td>\n",
              "      <td>0</td>\n",
              "      <td>0</td>\n",
              "      <td>0</td>\n",
              "      <td>0</td>\n",
              "      <td>0</td>\n",
              "      <td>0</td>\n",
              "      <td>0</td>\n",
              "    </tr>\n",
              "  </tbody>\n",
              "</table>\n",
              "</div>"
            ],
            "text/plain": [
              "   trip_seconds  ...  company_Top Cab Affiliation\n",
              "0             0  ...                            0\n",
              "1          1500  ...                            0\n",
              "2             0  ...                            0\n",
              "3             0  ...                            0\n",
              "4             0  ...                            0\n",
              "\n",
              "[5 rows x 20 columns]"
            ]
          },
          "metadata": {
            "tags": []
          },
          "execution_count": 76
        }
      ]
    },
    {
      "cell_type": "code",
      "metadata": {
        "id": "_fJGnLP7OE6_",
        "colab_type": "code",
        "outputId": "48ecf019-876b-447c-e05c-a96a616653da",
        "colab": {
          "base_uri": "https://localhost:8080/",
          "height": 390
        }
      },
      "source": [
        "df.isna().sum()"
      ],
      "execution_count": 77,
      "outputs": [
        {
          "output_type": "execute_result",
          "data": {
            "text/plain": [
              "trip_seconds                                        0\n",
              "trip_miles                                          0\n",
              "fare                                                0\n",
              "tips                                                0\n",
              "tolls                                               0\n",
              "extras                                              0\n",
              "trip_total                                          0\n",
              "payment_type_Credit Card                            0\n",
              "payment_type_Dispute                                0\n",
              "payment_type_No Charge                              0\n",
              "company_Blue Ribbon Taxi Association Inc.           0\n",
              "company_Chicago Elite Cab Corp. (Chicago Carriag    0\n",
              "company_Chicago Medallion Management                0\n",
              "company_Choice Taxi Association                     0\n",
              "company_Dispatch Taxi Affiliation                   0\n",
              "company_Northwest Management LLC                    0\n",
              "company_Suburban Dispatch LLC                       0\n",
              "company_T.A.S. - Payment Only                       0\n",
              "company_Taxi Affiliation Services                   0\n",
              "company_Top Cab Affiliation                         0\n",
              "dtype: int64"
            ]
          },
          "metadata": {
            "tags": []
          },
          "execution_count": 77
        }
      ]
    },
    {
      "cell_type": "code",
      "metadata": {
        "id": "7E-483CpHks0",
        "colab_type": "code",
        "colab": {}
      },
      "source": [
        "X = df.drop('fare', 1)\n",
        "y = df['fare']"
      ],
      "execution_count": 0,
      "outputs": []
    },
    {
      "cell_type": "code",
      "metadata": {
        "id": "LYn0-o8OB_vj",
        "colab_type": "code",
        "colab": {}
      },
      "source": [
        "from sklearn.model_selection import train_test_split\n",
        "\n",
        "X_train, X_test, y_train, y_test = train_test_split(X, y, test_size=0.2, random_state=0)"
      ],
      "execution_count": 0,
      "outputs": []
    },
    {
      "cell_type": "code",
      "metadata": {
        "id": "LquAHCGTHL0P",
        "colab_type": "code",
        "colab": {}
      },
      "source": [
        "from sklearn.preprocessing import StandardScaler\n",
        "\n",
        "sc = StandardScaler()\n",
        "X_train = sc.fit_transform(X_train)\n",
        "X_test = sc.transform(X_test)"
      ],
      "execution_count": 0,
      "outputs": []
    },
    {
      "cell_type": "code",
      "metadata": {
        "id": "Zonm92MgIGq4",
        "colab_type": "code",
        "colab": {}
      },
      "source": [
        "from sklearn.decomposition import PCA\n",
        "\n",
        "pca = PCA()\n",
        "X_train = pca.fit_transform(X_train)\n",
        "X_test = pca.transform(X_test)"
      ],
      "execution_count": 0,
      "outputs": []
    },
    {
      "cell_type": "code",
      "metadata": {
        "id": "w8gUJ5UDPL1f",
        "colab_type": "code",
        "outputId": "e6e479ac-585a-464c-c378-7d7086a080eb",
        "colab": {
          "base_uri": "https://localhost:8080/",
          "height": 105
        }
      },
      "source": [
        "explained_variance = pca.explained_variance_ratio_\n",
        "explained_variance"
      ],
      "execution_count": 82,
      "outputs": [
        {
          "output_type": "execute_result",
          "data": {
            "text/plain": [
              "array([1.61790143e-01, 1.06081566e-01, 8.58149472e-02, 7.85808694e-02,\n",
              "       7.12010665e-02, 6.16974941e-02, 5.95120445e-02, 5.68446350e-02,\n",
              "       5.60332453e-02, 5.56509003e-02, 5.54503636e-02, 5.46523189e-02,\n",
              "       3.49920180e-02, 2.11459847e-02, 1.82880188e-02, 1.25997096e-02,\n",
              "       9.49789670e-03, 1.66778896e-04, 1.80412026e-34])"
            ]
          },
          "metadata": {
            "tags": []
          },
          "execution_count": 82
        }
      ]
    },
    {
      "cell_type": "code",
      "metadata": {
        "id": "3_sl8ks1CCvh",
        "colab_type": "code",
        "outputId": "3341ad89-cab8-4020-91af-591c518e747a",
        "colab": {
          "base_uri": "https://localhost:8080/",
          "height": 537
        }
      },
      "source": [
        "columnNames = list(df.keys())\n",
        "plotter.xticks(range(len(explained_variance)), columnNames)\n",
        "plotter.xlabel('Column Names') \n",
        "plotter.ylabel('Values') \n",
        "plotter.title('Bar Graph') \n",
        "plotter.xticks(rotation=80) \n",
        "plotter.bar(range(len(explained_variance)), explained_variance)  \n",
        "\n",
        "plotter.show()"
      ],
      "execution_count": 94,
      "outputs": [
        {
          "output_type": "display_data",
          "data": {
            "image/png": "[encoded data removed]",
            "text/plain": [
              "<Figure size 432x288 with 1 Axes>"
            ]
          },
          "metadata": {
            "tags": [],
            "needs_background": "light"
          }
        }
      ]
    },
    {
      "cell_type": "markdown",
      "metadata": {
        "id": "ojLtZGkwe7ZN",
        "colab_type": "text"
      },
      "source": [
        "Removing last three columns"
      ]
    },
    {
      "cell_type": "code",
      "metadata": {
        "id": "eFW7IUQ4Rik3",
        "colab_type": "code",
        "colab": {}
      },
      "source": [
        "n_components = len(df.keys()) - 4"
      ],
      "execution_count": 0,
      "outputs": []
    },
    {
      "cell_type": "code",
      "metadata": {
        "id": "qrbZ8E6vPidA",
        "colab_type": "code",
        "colab": {}
      },
      "source": [
        "from sklearn.decomposition import PCA\n",
        "\n",
        "pca = PCA(n_components=n_components)\n",
        "X_train = pca.fit_transform(X_train)\n",
        "X_test = pca.transform(X_test)"
      ],
      "execution_count": 0,
      "outputs": []
    },
    {
      "cell_type": "code",
      "metadata": {
        "id": "f72SjOMwfd07",
        "colab_type": "code",
        "colab": {
          "base_uri": "https://localhost:8080/",
          "height": 87
        },
        "outputId": "34b32f28-3805-47e6-a492-1923fa10483c"
      },
      "source": [
        "explained_variance = pca.explained_variance_ratio_\n",
        "explained_variance"
      ],
      "execution_count": 103,
      "outputs": [
        {
          "output_type": "execute_result",
          "data": {
            "text/plain": [
              "array([0.16181713, 0.10609926, 0.08582926, 0.07859398, 0.07121294,\n",
              "       0.06170779, 0.05952197, 0.05685412, 0.05604259, 0.05566018,\n",
              "       0.05545961, 0.05466144, 0.03499785, 0.02114951, 0.01829107,\n",
              "       0.01260181])"
            ]
          },
          "metadata": {
            "tags": []
          },
          "execution_count": 103
        }
      ]
    },
    {
      "cell_type": "code",
      "metadata": {
        "id": "PcNRpa4MfR9g",
        "colab_type": "code",
        "colab": {
          "base_uri": "https://localhost:8080/",
          "height": 537
        },
        "outputId": "8b660db5-c309-464c-eef5-9150f56a79ef"
      },
      "source": [
        "columnNames = list(df.keys())\n",
        "plotter.xticks(range(len(explained_variance)), columnNames)\n",
        "plotter.xlabel('Column Names') \n",
        "plotter.ylabel('Values') \n",
        "plotter.title('Bar Graph') \n",
        "plotter.xticks(rotation=80) \n",
        "plotter.bar(range(len(explained_variance)), explained_variance)  \n",
        "\n",
        "plotter.show()"
      ],
      "execution_count": 104,
      "outputs": [
        {
          "output_type": "display_data",
          "data": {
            "image/png": "[encoded data removed]",
            "text/plain": [
              "<Figure size 432x288 with 1 Axes>"
            ]
          },
          "metadata": {
            "tags": [],
            "needs_background": "light"
          }
        }
      ]
    },
    {
      "cell_type": "code",
      "metadata": {
        "id": "0JeMl76dRSxK",
        "colab_type": "code",
        "colab": {
          "base_uri": "https://localhost:8080/",
          "height": 247
        },
        "outputId": "a9499418-101d-482d-a144-f406c30319c6"
      },
      "source": [
        "X_train"
      ],
      "execution_count": 93,
      "outputs": [
        {
          "output_type": "execute_result",
          "data": {
            "text/plain": [
              "array([[ 8.93969343e-01, -2.14228474e+00,  1.18462445e+00, ...,\n",
              "         1.98763749e+00,  9.10953376e-01, -7.69544581e-01],\n",
              "       [ 9.09112597e-01, -4.06856096e-01,  1.03280723e+00, ...,\n",
              "         2.53962743e+00,  9.74603602e-01,  9.82614122e-01],\n",
              "       [-6.58986978e-01, -6.47613270e-01,  4.41974865e-01, ...,\n",
              "        -4.78233236e-02,  1.27394280e-02, -2.34385540e-02],\n",
              "       ...,\n",
              "       [-9.92697734e-01,  2.49191524e+00,  2.87206654e-01, ...,\n",
              "         8.47867910e-02, -7.82354260e-02, -3.83817295e-01],\n",
              "       [ 3.22685112e-01,  1.91844756e+00, -2.83093785e+00, ...,\n",
              "         2.03121163e-01,  5.82562461e-02, -1.01910025e-01],\n",
              "       [ 4.28500652e-01,  3.90156817e-01, -2.73679753e+00, ...,\n",
              "         2.75757732e-03,  7.02160369e-02, -4.80110671e-01]])"
            ]
          },
          "metadata": {
            "tags": []
          },
          "execution_count": 93
        }
      ]
    },
    {
      "cell_type": "code",
      "metadata": {
        "id": "3KHnnSmRRa3O",
        "colab_type": "code",
        "colab": {}
      },
      "source": [
        "train_dataset = pd.DataFrame(X_train)\n",
        "train_dataset.to_csv('train_dataset.csv')"
      ],
      "execution_count": 0,
      "outputs": []
    },
    {
      "cell_type": "code",
      "metadata": {
        "id": "0sJOy6jSTS9P",
        "colab_type": "code",
        "colab": {}
      },
      "source": [
        "test_dataset = pd.DataFrame(X_train)\n",
        "test_dataset.to_csv('test_dataset.csv')"
      ],
      "execution_count": 0,
      "outputs": []
    },
    {
      "cell_type": "code",
      "metadata": {
        "id": "mhzyBtcsUdDo",
        "colab_type": "code",
        "colab": {}
      },
      "source": [
        "y_train.to_csv('CS6502_y_train.csv')\n",
        "y_test.to_csv('CS6502_y_test.csv')"
      ],
      "execution_count": 0,
      "outputs": []
    },
    {
      "cell_type": "markdown",
      "metadata": {
        "id": "QYx7G7AkCy16",
        "colab_type": "text"
      },
      "source": [
        "Code To Download CSV Files"
      ]
    },
    {
      "cell_type": "code",
      "metadata": {
        "id": "bRi79ykKVmDy",
        "colab_type": "code",
        "colab": {}
      },
      "source": [
        "# from google.colab import files\n",
        "# files.download('train_dataset.csv')\n",
        "# files.download('test_dataset.csv') \n",
        "\n",
        "# files.download('CS6502_y_train.csv')\n",
        "# files.download('CS6502_y_test.csv') "
      ],
      "execution_count": 0,
      "outputs": []
    }
  ]
}